{
 "cells": [
  {
   "cell_type": "code",
   "execution_count": 1,
   "id": "fb1e8809",
   "metadata": {},
   "outputs": [],
   "source": [
    "from nltk.sentiment import SentimentIntensityAnalyzer\n"
   ]
  },
  {
   "cell_type": "code",
   "execution_count": 2,
   "id": "43e7d5a6",
   "metadata": {},
   "outputs": [],
   "source": [
    "# Crear una instancia del SentimentIntensityAnalyzer\n",
    "sia = SentimentIntensityAnalyzer()"
   ]
  },
  {
   "cell_type": "code",
   "execution_count": 3,
   "id": "725af5e9",
   "metadata": {},
   "outputs": [],
   "source": [
    "# Lista de textos de ejemplo\n",
    "textos = [\n",
    "    \"No me agradan las personas tóxicas\",\n",
    "    \"Hoy fue un día maravilloso\",\n",
    "    \"Estoy emocionado por el próximo proyecto\",\n",
    "    \"El servicio al cliente fue terrible\",\n",
    "    \"La película fue decepcionante\"\n",
    "]"
   ]
  },
  {
   "cell_type": "code",
   "execution_count": 4,
   "id": "fd811f0d",
   "metadata": {},
   "outputs": [
    {
     "name": "stdout",
     "output_type": "stream",
     "text": [
      "Texto: No me agradan las personas tóxicas\n",
      "Sentimiento: -0.296\n",
      "\n",
      "Texto: Hoy fue un día maravilloso\n",
      "Sentimiento: 0.0\n",
      "\n",
      "Texto: Estoy emocionado por el próximo proyecto\n",
      "Sentimiento: 0.0\n",
      "\n",
      "Texto: El servicio al cliente fue terrible\n",
      "Sentimiento: -0.4767\n",
      "\n",
      "Texto: La película fue decepcionante\n",
      "Sentimiento: 0.0\n",
      "\n"
     ]
    }
   ],
   "source": [
    "# Realizar el análisis de sentimientos para cada texto\n",
    "for texto in textos:\n",
    "    resultado = sia.polarity_scores(texto)\n",
    "    print(\"Texto:\", texto)\n",
    "    print(\"Sentimiento:\", resultado['compound'])\n",
    "    print()"
   ]
  },
  {
   "cell_type": "markdown",
   "id": "de67e12b",
   "metadata": {},
   "source": [
    "## En algunos casos el programa entiende la connotación negativa, pero se pueden hacer mejoras\n"
   ]
  },
  {
   "cell_type": "code",
   "execution_count": null,
   "id": "a833ec24",
   "metadata": {},
   "outputs": [],
   "source": []
  }
 ],
 "metadata": {
  "kernelspec": {
   "display_name": "Python 3 (ipykernel)",
   "language": "python",
   "name": "python3"
  },
  "language_info": {
   "codemirror_mode": {
    "name": "ipython",
    "version": 3
   },
   "file_extension": ".py",
   "mimetype": "text/x-python",
   "name": "python",
   "nbconvert_exporter": "python",
   "pygments_lexer": "ipython3",
   "version": "3.10.10"
  }
 },
 "nbformat": 4,
 "nbformat_minor": 5
}
