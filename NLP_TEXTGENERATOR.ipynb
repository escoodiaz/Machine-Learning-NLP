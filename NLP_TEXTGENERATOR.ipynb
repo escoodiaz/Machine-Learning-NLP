{
 "cells": [
  {
   "cell_type": "code",
   "execution_count": 53,
   "id": "98e8e921",
   "metadata": {},
   "outputs": [],
   "source": [
    "#Librerías\n",
    "import tensorflow as tf\n",
    "from tensorflow.keras.layers import Embedding, LSTM, Dense\n",
    "from tensorflow.keras.models import Sequential\n",
    "from tensorflow.keras.preprocessing.text import Tokenizer\n",
    "from tensorflow.keras.preprocessing.sequence import pad_sequences\n",
    "import numpy as np"
   ]
  },
  {
   "cell_type": "code",
   "execution_count": 54,
   "id": "12a64324",
   "metadata": {},
   "outputs": [],
   "source": [
    "# Datos de entrenamiento\n",
    "textos = [\n",
    "    \"El cielo es azul\",\n",
    "    \"El sol brilla\",\n",
    "    \"Las flores son hermosas\"\n",
    "]"
   ]
  },
  {
   "cell_type": "code",
   "execution_count": 55,
   "id": "790653f2",
   "metadata": {},
   "outputs": [],
   "source": [
    "# Preprocesamiento de datos\n",
    "tokenizer = Tokenizer()\n",
    "tokenizer.fit_on_texts(textos)\n",
    "total_palabras = len(tokenizer.word_index) + 1\n",
    "secuencias = tokenizer.texts_to_sequences(textos)\n",
    "secuencias_pad = pad_sequences(secuencias)"
   ]
  },
  {
   "cell_type": "code",
   "execution_count": 56,
   "id": "463b0fec",
   "metadata": {},
   "outputs": [],
   "source": [
    "# Generar secuencias de entrada y salida\n",
    "secuencias_entrada = secuencias_pad[:, :-1]\n",
    "secuencias_salida = secuencias_pad[:, -1]\n"
   ]
  },
  {
   "cell_type": "code",
   "execution_count": 57,
   "id": "02221545",
   "metadata": {},
   "outputs": [],
   "source": [
    "# Convertir secuencias de salida a codificación one-hot\n",
    "secuencias_salida = tf.keras.utils.to_categorical(secuencias_salida, num_classes=total_palabras)\n"
   ]
  },
  {
   "cell_type": "code",
   "execution_count": 58,
   "id": "a32fb182",
   "metadata": {},
   "outputs": [],
   "source": [
    "# Modelo de generación de texto\n",
    "modelo = Sequential()\n",
    "modelo.add(Embedding(total_palabras, 100, input_length=secuencias_entrada.shape[1]))\n",
    "modelo.add(LSTM(100))\n",
    "modelo.add(Dense(total_palabras, activation='softmax'))\n",
    "modelo.compile(loss='categorical_crossentropy', optimizer='adam')"
   ]
  },
  {
   "cell_type": "code",
   "execution_count": 59,
   "id": "688c1316",
   "metadata": {},
   "outputs": [
    {
     "name": "stdout",
     "output_type": "stream",
     "text": [
      "Epoch 1/50\n",
      "1/1 [==============================] - 3s 3s/step - loss: 2.3961\n",
      "Epoch 2/50\n",
      "1/1 [==============================] - 0s 8ms/step - loss: 2.3814\n",
      "Epoch 3/50\n",
      "1/1 [==============================] - 0s 8ms/step - loss: 2.3667\n",
      "Epoch 4/50\n",
      "1/1 [==============================] - 0s 7ms/step - loss: 2.3517\n",
      "Epoch 5/50\n",
      "1/1 [==============================] - 0s 6ms/step - loss: 2.3364\n",
      "Epoch 6/50\n",
      "1/1 [==============================] - 0s 7ms/step - loss: 2.3206\n",
      "Epoch 7/50\n",
      "1/1 [==============================] - 0s 7ms/step - loss: 2.3041\n",
      "Epoch 8/50\n",
      "1/1 [==============================] - 0s 8ms/step - loss: 2.2868\n",
      "Epoch 9/50\n",
      "1/1 [==============================] - 0s 7ms/step - loss: 2.2685\n",
      "Epoch 10/50\n",
      "1/1 [==============================] - 0s 7ms/step - loss: 2.2492\n",
      "Epoch 11/50\n",
      "1/1 [==============================] - 0s 7ms/step - loss: 2.2285\n",
      "Epoch 12/50\n",
      "1/1 [==============================] - 0s 6ms/step - loss: 2.2065\n",
      "Epoch 13/50\n",
      "1/1 [==============================] - 0s 7ms/step - loss: 2.1828\n",
      "Epoch 14/50\n",
      "1/1 [==============================] - 0s 6ms/step - loss: 2.1574\n",
      "Epoch 15/50\n",
      "1/1 [==============================] - 0s 7ms/step - loss: 2.1299\n",
      "Epoch 16/50\n",
      "1/1 [==============================] - 0s 6ms/step - loss: 2.1004\n",
      "Epoch 17/50\n",
      "1/1 [==============================] - 0s 8ms/step - loss: 2.0684\n",
      "Epoch 18/50\n",
      "1/1 [==============================] - 0s 7ms/step - loss: 2.0338\n",
      "Epoch 19/50\n",
      "1/1 [==============================] - 0s 7ms/step - loss: 1.9963\n",
      "Epoch 20/50\n",
      "1/1 [==============================] - 0s 8ms/step - loss: 1.9557\n",
      "Epoch 21/50\n",
      "1/1 [==============================] - 0s 7ms/step - loss: 1.9118\n",
      "Epoch 22/50\n",
      "1/1 [==============================] - 0s 7ms/step - loss: 1.8641\n",
      "Epoch 23/50\n",
      "1/1 [==============================] - 0s 8ms/step - loss: 1.8125\n",
      "Epoch 24/50\n",
      "1/1 [==============================] - 0s 8ms/step - loss: 1.7566\n",
      "Epoch 25/50\n",
      "1/1 [==============================] - 0s 7ms/step - loss: 1.6961\n",
      "Epoch 26/50\n",
      "1/1 [==============================] - 0s 8ms/step - loss: 1.6309\n",
      "Epoch 27/50\n",
      "1/1 [==============================] - 0s 8ms/step - loss: 1.5607\n",
      "Epoch 28/50\n",
      "1/1 [==============================] - 0s 7ms/step - loss: 1.4853\n",
      "Epoch 29/50\n",
      "1/1 [==============================] - 0s 8ms/step - loss: 1.4049\n",
      "Epoch 30/50\n",
      "1/1 [==============================] - 0s 6ms/step - loss: 1.3195\n",
      "Epoch 31/50\n",
      "1/1 [==============================] - 0s 8ms/step - loss: 1.2297\n",
      "Epoch 32/50\n",
      "1/1 [==============================] - 0s 7ms/step - loss: 1.1360\n",
      "Epoch 33/50\n",
      "1/1 [==============================] - 0s 8ms/step - loss: 1.0395\n",
      "Epoch 34/50\n",
      "1/1 [==============================] - 0s 8ms/step - loss: 0.9415\n",
      "Epoch 35/50\n",
      "1/1 [==============================] - 0s 8ms/step - loss: 0.8437\n",
      "Epoch 36/50\n",
      "1/1 [==============================] - 0s 8ms/step - loss: 0.7478\n",
      "Epoch 37/50\n",
      "1/1 [==============================] - 0s 7ms/step - loss: 0.6557\n",
      "Epoch 38/50\n",
      "1/1 [==============================] - 0s 7ms/step - loss: 0.5688\n",
      "Epoch 39/50\n",
      "1/1 [==============================] - 0s 7ms/step - loss: 0.4884\n",
      "Epoch 40/50\n",
      "1/1 [==============================] - 0s 7ms/step - loss: 0.4149\n",
      "Epoch 41/50\n",
      "1/1 [==============================] - 0s 7ms/step - loss: 0.3489\n",
      "Epoch 42/50\n",
      "1/1 [==============================] - 0s 6ms/step - loss: 0.2903\n",
      "Epoch 43/50\n",
      "1/1 [==============================] - 0s 8ms/step - loss: 0.2390\n",
      "Epoch 44/50\n",
      "1/1 [==============================] - 0s 7ms/step - loss: 0.1949\n",
      "Epoch 45/50\n",
      "1/1 [==============================] - 0s 7ms/step - loss: 0.1578\n",
      "Epoch 46/50\n",
      "1/1 [==============================] - 0s 7ms/step - loss: 0.1272\n",
      "Epoch 47/50\n",
      "1/1 [==============================] - 0s 7ms/step - loss: 0.1024\n",
      "Epoch 48/50\n",
      "1/1 [==============================] - 0s 8ms/step - loss: 0.0825\n",
      "Epoch 49/50\n",
      "1/1 [==============================] - 0s 6ms/step - loss: 0.0668\n",
      "Epoch 50/50\n",
      "1/1 [==============================] - 0s 8ms/step - loss: 0.0544\n"
     ]
    },
    {
     "data": {
      "text/plain": [
       "<keras.callbacks.History at 0x1dbf22759c0>"
      ]
     },
     "execution_count": 59,
     "metadata": {},
     "output_type": "execute_result"
    }
   ],
   "source": [
    "# Entrenamiento del modelo\n",
    "modelo.fit(secuencias_entrada, secuencias_salida, epochs=50)"
   ]
  },
  {
   "cell_type": "code",
   "execution_count": 66,
   "id": "8ad3557a",
   "metadata": {},
   "outputs": [],
   "source": [
    "# Generación de texto automático\n",
    "inicio_texto = \"El sol\"\n",
    "temperatura = 0.6  # Ajusta la temperatura aquí (valores típicos: entre 0.1 y 1.0)\n",
    "for _ in range(10):\n",
    "    secuencia = tokenizer.texts_to_sequences([inicio_texto])[0]\n",
    "    secuencia = pad_sequences([secuencia], maxlen=secuencias_entrada.shape[1])\n",
    "    prediccion = modelo.predict(secuencia, verbose=0)[0]\n",
    "    indice_palabra = np.random.choice(len(prediccion), p=prediccion)\n",
    "    palabra = ''\n",
    "    for palabra, index in tokenizer.word_index.items():\n",
    "        if index == indice_palabra:\n",
    "            palabra = palabra\n",
    "            break\n",
    "    inicio_texto += ' ' + palabra"
   ]
  },
  {
   "cell_type": "code",
   "execution_count": 67,
   "id": "58a39a18",
   "metadata": {},
   "outputs": [
    {
     "name": "stdout",
     "output_type": "stream",
     "text": [
      "Texto generado: El sol brilla brilla hermosas hermosas azul es flores azul azul azul\n"
     ]
    }
   ],
   "source": [
    "print(\"Texto generado:\", inicio_texto)"
   ]
  },
  {
   "cell_type": "markdown",
   "id": "823101de",
   "metadata": {},
   "source": [
    "# Se tiene una estructura base para trabajar en donde se pueden modificar los optimizadores y otros parámetros para ajustar el modelo y obtener resultados más coherentes"
   ]
  },
  {
   "cell_type": "code",
   "execution_count": null,
   "id": "59f91762",
   "metadata": {},
   "outputs": [],
   "source": []
  }
 ],
 "metadata": {
  "kernelspec": {
   "display_name": "Python 3 (ipykernel)",
   "language": "python",
   "name": "python3"
  },
  "language_info": {
   "codemirror_mode": {
    "name": "ipython",
    "version": 3
   },
   "file_extension": ".py",
   "mimetype": "text/x-python",
   "name": "python",
   "nbconvert_exporter": "python",
   "pygments_lexer": "ipython3",
   "version": "3.10.10"
  }
 },
 "nbformat": 4,
 "nbformat_minor": 5
}
