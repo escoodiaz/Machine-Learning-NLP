{
 "cells": [
  {
   "cell_type": "code",
   "execution_count": 18,
   "id": "fb9611b3",
   "metadata": {},
   "outputs": [
    {
     "name": "stderr",
     "output_type": "stream",
     "text": [
      "[nltk_data] Downloading package vader_lexicon to\n",
      "[nltk_data]     C:\\Users\\Dan\\AppData\\Roaming\\nltk_data...\n",
      "[nltk_data]   Package vader_lexicon is already up-to-date!\n"
     ]
    },
    {
     "data": {
      "text/plain": [
       "True"
      ]
     },
     "execution_count": 18,
     "metadata": {},
     "output_type": "execute_result"
    }
   ],
   "source": [
    "import nltk\n",
    "\n",
    "# Descargar recursos adicionales de NLTK\n",
    "nltk.download('vader_lexicon')\n"
   ]
  },
  {
   "cell_type": "code",
   "execution_count": 19,
   "id": "f123a248",
   "metadata": {},
   "outputs": [
    {
     "name": "stdout",
     "output_type": "stream",
     "text": [
      "Texto: No me agradan las personas tóxicas.\n",
      "Sentimiento: -0.296\n"
     ]
    }
   ],
   "source": [
    "from nltk.sentiment import SentimentIntensityAnalyzer\n",
    "\n",
    "# Crear una instancia del SentimentIntensityAnalyzer\n",
    "sia = SentimentIntensityAnalyzer()\n",
    "\n",
    "# Texto de ejemplo\n",
    "texto = \"No me agradan las personas tóxicas.\"\n",
    "\n",
    "# Realizar el análisis de sentimientos\n",
    "resultado = sia.polarity_scores(texto)\n",
    "\n",
    "# Imprimir los resultados\n",
    "print(\"Texto:\", texto)\n",
    "print(\"Sentimiento:\", resultado['compound'])\n"
   ]
  },
  {
   "cell_type": "markdown",
   "id": "3f12193d",
   "metadata": {},
   "source": [
    "## Se reconocío la connotación negativa del texto :)"
   ]
  },
  {
   "cell_type": "code",
   "execution_count": null,
   "id": "80caf35b",
   "metadata": {},
   "outputs": [],
   "source": []
  }
 ],
 "metadata": {
  "kernelspec": {
   "display_name": "Python 3 (ipykernel)",
   "language": "python",
   "name": "python3"
  },
  "language_info": {
   "codemirror_mode": {
    "name": "ipython",
    "version": 3
   },
   "file_extension": ".py",
   "mimetype": "text/x-python",
   "name": "python",
   "nbconvert_exporter": "python",
   "pygments_lexer": "ipython3",
   "version": "3.10.10"
  }
 },
 "nbformat": 4,
 "nbformat_minor": 5
}
